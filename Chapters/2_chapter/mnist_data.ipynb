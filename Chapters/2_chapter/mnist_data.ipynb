{
 "cells": [
  {
   "cell_type": "code",
   "execution_count": 2,
   "id": "f5c78cf6-d078-42a2-9649-b694d6ca8692",
   "metadata": {
    "tags": []
   },
   "outputs": [],
   "source": [
    "#hide\n",
    "from fastbook import *\n",
    "from fastai.vision.widgets import *\n",
    "from fastai.vision.all import *"
   ]
  },
  {
   "cell_type": "code",
   "execution_count": null,
   "id": "028f12e9-4399-4058-8ae2-ba97ffac0aab",
   "metadata": {},
   "outputs": [],
   "source": []
  },
  {
   "cell_type": "code",
   "execution_count": 3,
   "id": "672d9458-a114-4824-a1bc-4b33878c76d6",
   "metadata": {
    "tags": []
   },
   "outputs": [],
   "source": [
    "path= untar_data(URLs.MNIST_SAMPLE)"
   ]
  },
  {
   "cell_type": "code",
   "execution_count": 4,
   "id": "552b3526-4914-4c76-ac16-5803ea332ce3",
   "metadata": {
    "tags": []
   },
   "outputs": [
    {
     "data": {
      "text/plain": [
       "(#3) [Path('/home/thai_mai/.fastai/data/mnist_sample/train'),Path('/home/thai_mai/.fastai/data/mnist_sample/valid'),Path('/home/thai_mai/.fastai/data/mnist_sample/labels.csv')]"
      ]
     },
     "execution_count": 4,
     "metadata": {},
     "output_type": "execute_result"
    }
   ],
   "source": [
    "path.ls()"
   ]
  },
  {
   "cell_type": "code",
   "execution_count": null,
   "id": "6de827d7-f10b-40c7-a7a2-de02d11889af",
   "metadata": {},
   "outputs": [],
   "source": []
  },
  {
   "cell_type": "code",
   "execution_count": null,
   "id": "9e7594c9-9536-4792-a3eb-e32fde04ff45",
   "metadata": {},
   "outputs": [],
   "source": []
  },
  {
   "cell_type": "markdown",
   "id": "98b1da0b-6854-4b3b-a678-4dfcbd7c5027",
   "metadata": {},
   "source": [
    "# 1. Preparing the training set"
   ]
  },
  {
   "cell_type": "code",
   "execution_count": 5,
   "id": "fa044fbb-7b5d-4eb3-a5f7-cb22bd069240",
   "metadata": {
    "tags": []
   },
   "outputs": [],
   "source": [
    "threes= (path/'train'/'3').ls().sorted()\n",
    "sevens= (path/'train'/'7').ls().sorted()"
   ]
  },
  {
   "cell_type": "code",
   "execution_count": 6,
   "id": "466b8b0d-4311-45e7-988d-52d72319d179",
   "metadata": {
    "tags": []
   },
   "outputs": [
    {
     "data": {
      "image/png": "[encoded data removed]",
      "text/plain": [
       "<PIL.PngImagePlugin.PngImageFile image mode=L size=28x28>"
      ]
     },
     "execution_count": 6,
     "metadata": {},
     "output_type": "execute_result"
    }
   ],
   "source": [
    "Image.open(threes[1])"
   ]
  },
  {
   "cell_type": "code",
   "execution_count": null,
   "id": "c11430b9-c5bb-4b64-935f-1ca6d5dbaa2f",
   "metadata": {},
   "outputs": [],
   "source": []
  },
  {
   "cell_type": "code",
   "execution_count": 12,
   "id": "ddcb6dbf-a7db-4973-9823-9b5416ba023c",
   "metadata": {
    "tags": []
   },
   "outputs": [],
   "source": [
    "# Converting images to a list of tensors\n",
    "threes_tens= [tensor(Image.open(o)) for o in threes]\n",
    "sevens_tens= [tensor(Image.open(o)) for o in sevens]"
   ]
  },
  {
   "cell_type": "code",
   "execution_count": 13,
   "id": "fcee78f8-d383-4e09-b8ed-eb83c0c14882",
   "metadata": {
    "tags": []
   },
   "outputs": [
    {
     "data": {
      "text/plain": [
       "(6131, 6131, list)"
      ]
     },
     "execution_count": 13,
     "metadata": {},
     "output_type": "execute_result"
    }
   ],
   "source": [
    "len(threes), len(threes_tens), type(threes_tens)"
   ]
  },
  {
   "cell_type": "code",
   "execution_count": null,
   "id": "69a64801-49a2-409a-975b-ef23db332a1c",
   "metadata": {},
   "outputs": [],
   "source": []
  },
  {
   "cell_type": "code",
   "execution_count": 14,
   "id": "fe9928bd-7dd6-408f-9f03-72acc129da5b",
   "metadata": {
    "tags": []
   },
   "outputs": [],
   "source": [
    "# Converting the tensor into a stacked\n",
    "threes_stacked= torch.stack(threes_tens).float()/255\n",
    "sevens_stacked= torch.stack(sevens_tens).float()/255"
   ]
  },
  {
   "cell_type": "code",
   "execution_count": 15,
   "id": "393ac03e-e6d5-493c-adf0-75114fe7919c",
   "metadata": {
    "tags": []
   },
   "outputs": [
    {
     "data": {
      "text/plain": [
       "torch.Size([6131, 28, 28])"
      ]
     },
     "execution_count": 15,
     "metadata": {},
     "output_type": "execute_result"
    }
   ],
   "source": [
    "threes_stacked.shape"
   ]
  },
  {
   "cell_type": "code",
   "execution_count": null,
   "id": "8e2fe17f-ef15-4f29-b40e-94941ef97311",
   "metadata": {},
   "outputs": [],
   "source": []
  },
  {
   "cell_type": "code",
   "execution_count": 18,
   "id": "4f5519dd-353c-47d8-b529-264111e0685c",
   "metadata": {
    "tags": []
   },
   "outputs": [],
   "source": [
    "# Concatenate these two into a dataset\n",
    "train_x= torch.cat([threes_stacked, sevens_stacked]).view(-1, 28*28)\n",
    "train_y= tensor([1]* len(threes) + [0]* len(sevens)).unsqueeze(1)"
   ]
  },
  {
   "cell_type": "code",
   "execution_count": 21,
   "id": "2ad8e271-9cfd-4c8b-97a8-4a09682e4b60",
   "metadata": {
    "tags": []
   },
   "outputs": [
    {
     "data": {
      "text/plain": [
       "(torch.Size([12396, 784]), torch.Size([12396, 1]))"
      ]
     },
     "execution_count": 21,
     "metadata": {},
     "output_type": "execute_result"
    }
   ],
   "source": [
    "train_x.shape, train_y.shape"
   ]
  },
  {
   "cell_type": "code",
   "execution_count": null,
   "id": "bd61477e-ada7-4848-ac3d-299129cec9e2",
   "metadata": {},
   "outputs": [],
   "source": []
  },
  {
   "cell_type": "code",
   "execution_count": 22,
   "id": "c2e41789-aa05-4e6d-80e0-a367bdb00f14",
   "metadata": {
    "tags": []
   },
   "outputs": [],
   "source": [
    "# Create a dataset named ds\n",
    "ds= list(zip(train_x, train_y))"
   ]
  },
  {
   "cell_type": "code",
   "execution_count": 23,
   "id": "2700e094-e770-4a3b-ad8a-c8308ea493aa",
   "metadata": {
    "tags": []
   },
   "outputs": [],
   "source": [
    "# Testing an example of ds\n",
    "x_test, y_test= ds[0]"
   ]
  },
  {
   "cell_type": "code",
   "execution_count": 25,
   "id": "ee9dfb86-fb8c-4ca8-a071-f5f8a26b761c",
   "metadata": {
    "tags": []
   },
   "outputs": [
    {
     "data": {
      "text/plain": [
       "(torch.Size([784]), tensor([1]))"
      ]
     },
     "execution_count": 25,
     "metadata": {},
     "output_type": "execute_result"
    }
   ],
   "source": [
    "x_test.shape, y_test"
   ]
  },
  {
   "cell_type": "code",
   "execution_count": null,
   "id": "b2d62df1-5cf5-440a-8838-55581c4e8854",
   "metadata": {},
   "outputs": [],
   "source": []
  },
  {
   "cell_type": "code",
   "execution_count": 26,
   "id": "c2ee7d25-db43-4df0-b795-3f7c590c64d6",
   "metadata": {
    "tags": []
   },
   "outputs": [],
   "source": [
    "# Converting the dataset ds into DataLoader object\n",
    "dl= DataLoader(ds, batch_size= 256)"
   ]
  },
  {
   "cell_type": "code",
   "execution_count": 27,
   "id": "26da1b85-e84e-445b-9466-f6bd06c59fff",
   "metadata": {
    "tags": []
   },
   "outputs": [],
   "source": [
    "# Testing the first batch\n",
    "xb_1, yb_1 = first(dl)"
   ]
  },
  {
   "cell_type": "code",
   "execution_count": 29,
   "id": "4ee4a303-52a0-46b7-86be-9c75ba5baa69",
   "metadata": {
    "tags": []
   },
   "outputs": [
    {
     "data": {
      "text/plain": [
       "(torch.Size([256, 784]), torch.Size([256, 1]))"
      ]
     },
     "execution_count": 29,
     "metadata": {},
     "output_type": "execute_result"
    }
   ],
   "source": [
    "xb_1.shape, yb_1.shape"
   ]
  },
  {
   "cell_type": "code",
   "execution_count": null,
   "id": "0d21dd4b-fbdd-4d6e-bda2-b522afd46a8f",
   "metadata": {},
   "outputs": [],
   "source": []
  },
  {
   "cell_type": "code",
   "execution_count": null,
   "id": "693e8d1e-0c18-4d5f-9184-71f07bfbf628",
   "metadata": {},
   "outputs": [],
   "source": []
  },
  {
   "cell_type": "markdown",
   "id": "8771c1a1-c206-4429-b450-3a8567bc27a3",
   "metadata": {},
   "source": [
    "# 2. Preparing the valid set"
   ]
  },
  {
   "cell_type": "code",
   "execution_count": 30,
   "id": "d07c5b84-5924-48fc-ad6e-947c94888ec1",
   "metadata": {
    "tags": []
   },
   "outputs": [],
   "source": [
    "threes_valid= (path/'valid'/'3').ls().sorted()\n",
    "sevens_valid= (path/'valid'/'7').ls().sorted()"
   ]
  },
  {
   "cell_type": "code",
   "execution_count": null,
   "id": "5badad50-fcb8-47c0-8337-997a35b68848",
   "metadata": {},
   "outputs": [],
   "source": []
  },
  {
   "cell_type": "code",
   "execution_count": 32,
   "id": "60f01821-e084-499e-8c85-3a146f66dd40",
   "metadata": {
    "tags": []
   },
   "outputs": [],
   "source": [
    "# Converting images to tensors\n",
    "valid_threes_tens= [tensor(Image.open(o)) for o in threes_valid]\n",
    "valid_sevens_tens= [tensor(Image.open(o)) for o in sevens_valid]"
   ]
  },
  {
   "cell_type": "code",
   "execution_count": null,
   "id": "9ba3c870-4e73-4f9f-b556-7c4a5e09a19f",
   "metadata": {},
   "outputs": [],
   "source": []
  },
  {
   "cell_type": "code",
   "execution_count": 33,
   "id": "ced329a2-7b9b-44ad-baac-50b10f400701",
   "metadata": {
    "tags": []
   },
   "outputs": [],
   "source": [
    "valid_3_tens= torch.stack(valid_threes_tens).float()/255\n",
    "valid_7_tens= torch.stack(valid_sevens_tens).float()/255"
   ]
  },
  {
   "cell_type": "code",
   "execution_count": null,
   "id": "dfb3a3e8-4f46-4e98-ae9d-0282eedd2d1f",
   "metadata": {},
   "outputs": [],
   "source": []
  },
  {
   "cell_type": "code",
   "execution_count": 35,
   "id": "57b0231d-699e-4069-adb8-89998596f403",
   "metadata": {
    "tags": []
   },
   "outputs": [],
   "source": [
    "# Catch two stacked tensor together\n",
    "valid_x= torch.cat([valid_3_tens, valid_7_tens]).view(-1, 28*28)\n",
    "valid_y= tensor([1]* len(threes_valid) + [0]* len(sevens_valid)).unsqueeze(1)"
   ]
  },
  {
   "cell_type": "code",
   "execution_count": null,
   "id": "fbc3b00d-bece-4b6e-bdc3-ba4d7b538ce5",
   "metadata": {},
   "outputs": [],
   "source": []
  },
  {
   "cell_type": "code",
   "execution_count": 36,
   "id": "2be38ea4-e61c-464f-99e8-b918cd3f5bf5",
   "metadata": {
    "tags": []
   },
   "outputs": [],
   "source": [
    "# Create a valid dataset\n",
    "ds_valid= list(zip(valid_x, valid_y))"
   ]
  },
  {
   "cell_type": "code",
   "execution_count": 37,
   "id": "505e1707-e4e6-40fb-8a52-b91a46355e59",
   "metadata": {
    "tags": []
   },
   "outputs": [],
   "source": [
    "# Convert to DataLoader\n",
    "dl_valid= DataLoader(ds_valid, batch_size= 256)"
   ]
  },
  {
   "cell_type": "code",
   "execution_count": 38,
   "id": "5b0fcdfd-50fa-4bc8-8ec4-002fcdabbf1c",
   "metadata": {
    "tags": []
   },
   "outputs": [
    {
     "data": {
      "text/plain": [
       "8"
      ]
     },
     "execution_count": 38,
     "metadata": {},
     "output_type": "execute_result"
    }
   ],
   "source": [
    "len(dl_valid)"
   ]
  },
  {
   "cell_type": "code",
   "execution_count": null,
   "id": "0b01b8b5-30c8-4672-b7bd-b3460170742e",
   "metadata": {},
   "outputs": [],
   "source": []
  },
  {
   "cell_type": "markdown",
   "id": "48ca0536-4a1b-4be0-86cc-34f6c37ea4b9",
   "metadata": {},
   "source": [
    "# 3. Create a function to calculate the loss"
   ]
  },
  {
   "cell_type": "code",
   "execution_count": 42,
   "id": "70c3d409-bb04-495b-a852-202568d73804",
   "metadata": {
    "tags": []
   },
   "outputs": [],
   "source": [
    "def mnist_loss(model_out, targets):\n",
    "    # Applying sigmoid to model_out\n",
    "    probab= model_out.sigmoid() # probab to be 1\n",
    "    # retunr the loss\n",
    "    return torch.where(targets==1, 1-probab, probab).mean()"
   ]
  },
  {
   "cell_type": "code",
   "execution_count": null,
   "id": "abda0ff7-7ca5-4ba4-8aa2-ec1499873290",
   "metadata": {},
   "outputs": [],
   "source": []
  },
  {
   "cell_type": "code",
   "execution_count": 44,
   "id": "f08f17c8-6e92-4632-9073-2bd802b595b9",
   "metadata": {
    "tags": []
   },
   "outputs": [],
   "source": [
    "targets= tensor([1,0,1])\n",
    "probab= tensor([0.9, 0.2, 0.7])"
   ]
  },
  {
   "cell_type": "code",
   "execution_count": 45,
   "id": "6254b896-e5ca-446a-96fd-d8bd9a5fad8f",
   "metadata": {
    "tags": []
   },
   "outputs": [
    {
     "data": {
      "text/plain": [
       "tensor(0.2000)"
      ]
     },
     "execution_count": 45,
     "metadata": {},
     "output_type": "execute_result"
    }
   ],
   "source": [
    "torch.where(targets==1, 1-probab, probab).mean()"
   ]
  },
  {
   "cell_type": "code",
   "execution_count": null,
   "id": "79677f86-684b-4b69-bc4b-0170f07c883d",
   "metadata": {},
   "outputs": [],
   "source": []
  },
  {
   "cell_type": "code",
   "execution_count": 47,
   "id": "f71b8459-5091-4f14-aa4c-b33feadecbfe",
   "metadata": {
    "tags": []
   },
   "outputs": [
    {
     "data": {
      "text/plain": [
       "tensor(0.3667)"
      ]
     },
     "execution_count": 47,
     "metadata": {},
     "output_type": "execute_result"
    }
   ],
   "source": [
    "probab= tensor([0.9, 0.2, 0.2])\n",
    "torch.where(targets==1, 1-probab, probab).mean()"
   ]
  },
  {
   "cell_type": "code",
   "execution_count": null,
   "id": "1a17a6b0-7a51-4712-803e-b16cfef0b706",
   "metadata": {},
   "outputs": [],
   "source": []
  },
  {
   "cell_type": "code",
   "execution_count": null,
   "id": "cf1839b1-39d3-42d7-8cca-1bf922eb82a9",
   "metadata": {},
   "outputs": [],
   "source": []
  },
  {
   "cell_type": "markdown",
   "id": "72102032-213c-4453-985b-422320e84f8f",
   "metadata": {
    "tags": []
   },
   "source": [
    "# 4. Create a function to initialize the parameters"
   ]
  },
  {
   "cell_type": "code",
   "execution_count": 48,
   "id": "81b26fbf-68af-4387-8448-2fc404e440d7",
   "metadata": {
    "tags": []
   },
   "outputs": [],
   "source": [
    "def init_params(size, std= 1.0):\n",
    "    return (torch.randn(size)*std).requires_grad_()"
   ]
  },
  {
   "cell_type": "code",
   "execution_count": 49,
   "id": "d6a21085-44ef-4109-a5c1-87e1444c8016",
   "metadata": {
    "tags": []
   },
   "outputs": [],
   "source": [
    "weights= init_params((28*28,1))\n",
    "bias= init_params(1)"
   ]
  },
  {
   "cell_type": "code",
   "execution_count": 51,
   "id": "d1441bc9-9b01-47a2-9c25-e87a4087994c",
   "metadata": {
    "tags": []
   },
   "outputs": [
    {
     "data": {
      "text/plain": [
       "torch.Size([784, 1])"
      ]
     },
     "execution_count": 51,
     "metadata": {},
     "output_type": "execute_result"
    }
   ],
   "source": [
    "weights.shape"
   ]
  },
  {
   "cell_type": "code",
   "execution_count": null,
   "id": "6216761b-480b-4205-9597-d94fbdd807e7",
   "metadata": {},
   "outputs": [],
   "source": []
  },
  {
   "cell_type": "markdown",
   "id": "cbad2d96-50fb-47e3-95a8-3ee7afcfd3f9",
   "metadata": {},
   "source": [
    "# 5 . Create a linear function"
   ]
  },
  {
   "cell_type": "code",
   "execution_count": 52,
   "id": "4143368d-f128-4341-95e8-6e5c5319441f",
   "metadata": {
    "tags": []
   },
   "outputs": [
    {
     "data": {
      "text/plain": [
       "torch.Size([256, 784])"
      ]
     },
     "execution_count": 52,
     "metadata": {},
     "output_type": "execute_result"
    }
   ],
   "source": [
    "# Testing the shape of one batch\n",
    "xb_1.shape"
   ]
  },
  {
   "cell_type": "code",
   "execution_count": 53,
   "id": "3765b798-5120-42d2-946c-b683c564c9fb",
   "metadata": {
    "tags": []
   },
   "outputs": [],
   "source": [
    "def linear1(xb):\n",
    "    return xb@weights + bias"
   ]
  },
  {
   "cell_type": "code",
   "execution_count": null,
   "id": "d188a9a1-6872-4ff9-b0f7-59ad0a932a31",
   "metadata": {},
   "outputs": [],
   "source": []
  },
  {
   "cell_type": "code",
   "execution_count": null,
   "id": "b86d1da7-deb8-4eec-9a7a-a791748f1275",
   "metadata": {},
   "outputs": [],
   "source": []
  },
  {
   "cell_type": "markdown",
   "id": "7d6abe85-0236-41ef-a4d0-13b6dc44fa8d",
   "metadata": {},
   "source": [
    "# 6. Create a function to calculate the gradient of the loss for one batch"
   ]
  },
  {
   "cell_type": "code",
   "execution_count": 54,
   "id": "1e5a8d2d-350e-46be-b5d8-0971d134ad51",
   "metadata": {
    "tags": []
   },
   "outputs": [],
   "source": [
    "def calc_grad(xb, yb, model):\n",
    "    # Getting the model_out\n",
    "    model_out= model(xb)\n",
    "    # Calculate the loss\n",
    "    loss= mnist_loss(model_out, yb)\n",
    "    # Calculate the gradient of the loss\n",
    "    loss.backward()\n",
    "    "
   ]
  },
  {
   "cell_type": "code",
   "execution_count": null,
   "id": "2d3176bb-1beb-4af6-b9df-085c24c5db6e",
   "metadata": {},
   "outputs": [],
   "source": []
  },
  {
   "cell_type": "code",
   "execution_count": 63,
   "id": "92294392-9daa-45fe-8ddc-ad0277811a39",
   "metadata": {
    "tags": []
   },
   "outputs": [
    {
     "data": {
      "text/plain": [
       "(tensor(-0.0106), tensor([-0.0711]))"
      ]
     },
     "execution_count": 63,
     "metadata": {},
     "output_type": "execute_result"
    }
   ],
   "source": [
    "### An example for the first batch ###\n",
    "calc_grad(xb_1, yb_1, linear1)\n",
    "\n",
    "# Getting the gadient\n",
    "weights.grad.mean(), bias.grad"
   ]
  },
  {
   "cell_type": "code",
   "execution_count": 64,
   "id": "f4a37497-41c8-408a-8d70-a53fb2252b4f",
   "metadata": {
    "tags": []
   },
   "outputs": [
    {
     "data": {
      "text/plain": [
       "tensor([0.])"
      ]
     },
     "execution_count": 64,
     "metadata": {},
     "output_type": "execute_result"
    }
   ],
   "source": [
    "# Setting gradient back to 0\n",
    "weights.grad.zero_()\n",
    "bias.grad.zero_()"
   ]
  },
  {
   "cell_type": "code",
   "execution_count": 65,
   "id": "97a824cb-a960-43d2-a106-b8043f271c64",
   "metadata": {
    "tags": []
   },
   "outputs": [
    {
     "data": {
      "text/plain": [
       "(tensor(-0.0106), tensor([-0.0711]))"
      ]
     },
     "execution_count": 65,
     "metadata": {},
     "output_type": "execute_result"
    }
   ],
   "source": [
    "# Calculate again\n",
    "### An example for the first batch ###\n",
    "calc_grad(xb_1, yb_1, linear1)\n",
    "\n",
    "# Getting the gadient\n",
    "weights.grad.mean(), bias.grad"
   ]
  },
  {
   "cell_type": "code",
   "execution_count": null,
   "id": "24ccc85e-e6f0-400d-bba7-6b916253e343",
   "metadata": {},
   "outputs": [],
   "source": []
  },
  {
   "cell_type": "code",
   "execution_count": null,
   "id": "823477eb-3381-48c9-a96a-274bf2a875c6",
   "metadata": {
    "jupyter": {
     "source_hidden": true
    },
    "tags": []
   },
   "outputs": [],
   "source": []
  },
  {
   "cell_type": "markdown",
   "id": "d57cfe3a-1855-496a-bde0-4b4d1742398f",
   "metadata": {},
   "source": [
    "# 7. Create a function to updating the parameter for one epoch"
   ]
  },
  {
   "cell_type": "code",
   "execution_count": 66,
   "id": "027df1ff-38c7-4031-8928-4465b28f229d",
   "metadata": {
    "tags": []
   },
   "outputs": [],
   "source": [
    "def train_epoch(model, lr, params):\n",
    "    # loop over the dataset\n",
    "    for xb, yb in dl:\n",
    "        # Calculate the gradient for this batch\n",
    "        calc_grad(xb, yb, model)\n",
    "        \n",
    "        for p in params:\n",
    "            p.data -= lr* p.grad\n",
    "            \n",
    "            # Setting p back to 0\n",
    "            p.grad.zero_()"
   ]
  },
  {
   "cell_type": "code",
   "execution_count": null,
   "id": "b7a6ec19-ebe3-4a84-93b6-7406003c1092",
   "metadata": {},
   "outputs": [],
   "source": []
  },
  {
   "cell_type": "markdown",
   "id": "e1368f58-c1dd-4198-b1af-bf0a45f184fc",
   "metadata": {},
   "source": [
    "# 8. Create a function to calculate the accuracy for each batch"
   ]
  },
  {
   "cell_type": "code",
   "execution_count": 67,
   "id": "5e3f99e4-b363-4479-9dd6-d2205614af57",
   "metadata": {
    "tags": []
   },
   "outputs": [],
   "source": [
    "def batch_accuracy(xb, yb):\n",
    "    # Note that xb = model_out\n",
    "    # Applying sigmoid for xb\n",
    "    probab= xb.sigmoid()\n",
    "    correct= (probab>0.5) == yb\n",
    "    return correct.float().mean()"
   ]
  },
  {
   "cell_type": "code",
   "execution_count": null,
   "id": "9de9c392-08c8-41f9-b7e2-8ba59fb7fd03",
   "metadata": {},
   "outputs": [],
   "source": []
  },
  {
   "cell_type": "code",
   "execution_count": 72,
   "id": "0a1852e6-84c9-4cc6-8992-36604ef46f58",
   "metadata": {
    "tags": []
   },
   "outputs": [],
   "source": [
    "# Putting all the batches in the dl_valid together\n",
    "def validate_epoch(model):\n",
    "    accs= [batch_accuracy(model(xb), yb) for xb, yb in dl_valid]\n",
    "    return round(torch.stack(accs).mean().item(),4)"
   ]
  },
  {
   "cell_type": "code",
   "execution_count": null,
   "id": "3bc6ed63-5304-4163-8084-40486794f160",
   "metadata": {},
   "outputs": [],
   "source": []
  },
  {
   "cell_type": "code",
   "execution_count": null,
   "id": "b4eb1722-4098-4444-8c3f-01c47c279a5b",
   "metadata": {},
   "outputs": [],
   "source": []
  },
  {
   "cell_type": "markdown",
   "id": "2994965a-670a-47f2-ad40-cac841619d16",
   "metadata": {},
   "source": [
    "# 9. Training for many epochs"
   ]
  },
  {
   "cell_type": "code",
   "execution_count": 73,
   "id": "31689f8d-05d8-4e00-b76f-6d7d49dcf42c",
   "metadata": {
    "tags": []
   },
   "outputs": [
    {
     "name": "stdout",
     "output_type": "stream",
     "text": [
      "0.7113 0.8598 0.9135 0.9345 0.9443 0.9506 0.9551 0.956 0.958 0.9599 0.9609 0.9624 0.9648 0.9648 0.9668 0.9668 0.9672 0.9668 0.9672 0.9672 "
     ]
    }
   ],
   "source": [
    "# Initialize the parameters\n",
    "lr= 1.0\n",
    "weights= init_params((28*28,1))\n",
    "bias= init_params(1)\n",
    "params= weights, bias\n",
    "\n",
    "for i in range(20):\n",
    "    # Updating the parameters\n",
    "    train_epoch(linear1, lr, params)\n",
    "    # Printing the accuracy on the valid set based on the params\n",
    "    print(validate_epoch(linear1), end= ' ')"
   ]
  },
  {
   "cell_type": "code",
   "execution_count": null,
   "id": "216ab049-3c85-4bfb-8c2c-6a4de36c3f18",
   "metadata": {},
   "outputs": [],
   "source": []
  },
  {
   "cell_type": "code",
   "execution_count": null,
   "id": "c0ac4853-11d1-499a-bc63-4288e3b75a45",
   "metadata": {},
   "outputs": [],
   "source": []
  },
  {
   "cell_type": "code",
   "execution_count": null,
   "id": "47dde33b-668b-4fc9-9687-9d4381e7dda8",
   "metadata": {},
   "outputs": [],
   "source": []
  },
  {
   "cell_type": "code",
   "execution_count": null,
   "id": "841ca1d7-02ba-42f7-b3b9-39b08088b13e",
   "metadata": {},
   "outputs": [],
   "source": []
  },
  {
   "cell_type": "code",
   "execution_count": null,
   "id": "8e78028c-dea9-4a5f-97c2-2c13005ce651",
   "metadata": {},
   "outputs": [],
   "source": []
  },
  {
   "cell_type": "code",
   "execution_count": null,
   "id": "69a81b62-e5d2-48a8-8f77-8de46a365523",
   "metadata": {},
   "outputs": [],
   "source": []
  },
  {
   "cell_type": "code",
   "execution_count": null,
   "id": "3796a57a-ecf5-49cd-bc1a-39e93973354f",
   "metadata": {},
   "outputs": [],
   "source": []
  },
  {
   "cell_type": "code",
   "execution_count": null,
   "id": "bd8f12b6-d41a-4d51-b378-50785e58bd06",
   "metadata": {},
   "outputs": [],
   "source": []
  },
  {
   "cell_type": "code",
   "execution_count": null,
   "id": "1ee586c4-9957-4a19-bea7-4d6aa329b6d3",
   "metadata": {},
   "outputs": [],
   "source": []
  },
  {
   "cell_type": "code",
   "execution_count": null,
   "id": "2495a612-20cc-4c10-bed3-103d026d57cb",
   "metadata": {},
   "outputs": [],
   "source": []
  },
  {
   "cell_type": "code",
   "execution_count": null,
   "id": "d844b44f-2c7d-423e-99ed-4a0a4dea403c",
   "metadata": {},
   "outputs": [],
   "source": []
  },
  {
   "cell_type": "code",
   "execution_count": null,
   "id": "2ec5ed96-56d9-442a-881a-50513df31df8",
   "metadata": {},
   "outputs": [],
   "source": []
  },
  {
   "cell_type": "code",
   "execution_count": null,
   "id": "78c232db-2ffe-415e-9fc8-318eaa6b027a",
   "metadata": {},
   "outputs": [],
   "source": []
  }
 ],
 "metadata": {
  "kernelspec": {
   "display_name": "Python 3 (ipykernel)",
   "language": "python",
   "name": "python3"
  },
  "language_info": {
   "codemirror_mode": {
    "name": "ipython",
    "version": 3
   },
   "file_extension": ".py",
   "mimetype": "text/x-python",
   "name": "python",
   "nbconvert_exporter": "python",
   "pygments_lexer": "ipython3",
   "version": "3.10.10"
  }
 },
 "nbformat": 4,
 "nbformat_minor": 5
}
